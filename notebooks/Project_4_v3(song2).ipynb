{
 "cells": [
  {
   "cell_type": "markdown",
   "metadata": {},
   "source": [
    "# Modelling of lyrics of various artists."
   ]
  },
  {
   "cell_type": "code",
   "execution_count": 19,
   "metadata": {},
   "outputs": [],
   "source": [
    "import pandas as pd\n",
    "from sklearn.feature_extraction.text import CountVectorizer\n",
    "import pandas as pd\n",
    "from sklearn.feature_extraction.text import CountVectorizer, TfidfVectorizer\n",
    "from sklearn.compose import make_column_transformer\n",
    "from sklearn.ensemble import RandomForestClassifier\n",
    "from sklearn.pipeline import make_pipeline\n",
    "from sklearn.model_selection import GridSearchCV, train_test_split\n",
    "from sklearn.metrics import accuracy_score\n",
    "from sklearn import preprocessing\n",
    "from sklearn.metrics import accuracy_score, precision_score, recall_score, f1_score, confusion_matrix\n",
    "from sklearn.linear_model import LogisticRegression\n",
    "from sklearn.naive_bayes import MultinomialNB\n",
    "from sklearn.svm import SVC"
   ]
  },
  {
   "cell_type": "code",
   "execution_count": 4,
   "metadata": {},
   "outputs": [],
   "source": [
    "df= pd.read_csv('./src/Songs2.csv')"
   ]
  },
  {
   "cell_type": "code",
   "execution_count": 5,
   "metadata": {},
   "outputs": [],
   "source": [
    "df=df.drop('Unnamed: 0', axis=1)"
   ]
  },
  {
   "cell_type": "code",
   "execution_count": 6,
   "metadata": {},
   "outputs": [
    {
     "data": {
      "text/plain": [
       "Bob Marley         108\n",
       "Led Zeppelin        89\n",
       "Michael Jackson     86\n",
       "Name: Artist, dtype: int64"
      ]
     },
     "execution_count": 6,
     "metadata": {},
     "output_type": "execute_result"
    }
   ],
   "source": [
    "df['Artist'].value_counts(dropna= False)"
   ]
  },
  {
   "cell_type": "code",
   "execution_count": 7,
   "metadata": {},
   "outputs": [
    {
     "data": {
      "text/html": [
       "<div>\n",
       "<style scoped>\n",
       "    .dataframe tbody tr th:only-of-type {\n",
       "        vertical-align: middle;\n",
       "    }\n",
       "\n",
       "    .dataframe tbody tr th {\n",
       "        vertical-align: top;\n",
       "    }\n",
       "\n",
       "    .dataframe thead th {\n",
       "        text-align: right;\n",
       "    }\n",
       "</style>\n",
       "<table border=\"1\" class=\"dataframe\">\n",
       "  <thead>\n",
       "    <tr style=\"text-align: right;\">\n",
       "      <th></th>\n",
       "      <th>Artist</th>\n",
       "      <th>Lyrics</th>\n",
       "    </tr>\n",
       "  </thead>\n",
       "  <tbody>\n",
       "    <tr>\n",
       "      <th>0</th>\n",
       "      <td>Bob Marley</td>\n",
       "      <td>Stir it up, little darlin', stir it up, me on,...</td>\n",
       "    </tr>\n",
       "    <tr>\n",
       "      <th>1</th>\n",
       "      <td>Bob Marley</td>\n",
       "      <td>Huh, please don't you rock my boat\\n'Cause I d...</td>\n",
       "    </tr>\n",
       "    <tr>\n",
       "      <th>2</th>\n",
       "      <td>Bob Marley</td>\n",
       "      <td>Zion train is coming our way\\nThe Zion train i...</td>\n",
       "    </tr>\n",
       "    <tr>\n",
       "      <th>3</th>\n",
       "      <td>Bob Marley</td>\n",
       "      <td>Woman hold her head and cry\\n'Cause her son ha...</td>\n",
       "    </tr>\n",
       "    <tr>\n",
       "      <th>4</th>\n",
       "      <td>Bob Marley</td>\n",
       "      <td>Stir it up little darling, stir it up\\nCome on...</td>\n",
       "    </tr>\n",
       "  </tbody>\n",
       "</table>\n",
       "</div>"
      ],
      "text/plain": [
       "       Artist                                             Lyrics\n",
       "0  Bob Marley  Stir it up, little darlin', stir it up, me on,...\n",
       "1  Bob Marley  Huh, please don't you rock my boat\\n'Cause I d...\n",
       "2  Bob Marley  Zion train is coming our way\\nThe Zion train i...\n",
       "3  Bob Marley  Woman hold her head and cry\\n'Cause her son ha...\n",
       "4  Bob Marley  Stir it up little darling, stir it up\\nCome on..."
      ]
     },
     "execution_count": 7,
     "metadata": {},
     "output_type": "execute_result"
    }
   ],
   "source": [
    "df.head()"
   ]
  },
  {
   "cell_type": "code",
   "execution_count": 8,
   "metadata": {},
   "outputs": [],
   "source": [
    "y = df['Artist']\n",
    "X= df['Lyrics'].reset_index()"
   ]
  },
  {
   "cell_type": "code",
   "execution_count": 9,
   "metadata": {},
   "outputs": [],
   "source": [
    "X_train, X_test, y_train, y_test = train_test_split(X,y)"
   ]
  },
  {
   "cell_type": "code",
   "execution_count": 21,
   "metadata": {},
   "outputs": [],
   "source": [
    "preprocess = make_column_transformer(\n",
    "                (TfidfVectorizer(), 'Lyrics'))\n",
    "\n",
    "model_pipe_LR = make_pipeline(\n",
    "                            preprocess,\n",
    "                            LogisticRegression()\n",
    ")\n",
    "\n",
    "model_pipe_RF = make_pipeline(\n",
    "                            preprocess,\n",
    "                            RandomForestClassifier()\n",
    ")\n",
    "\n",
    "model_pipe_NB = make_pipeline(\n",
    "                            preprocess,\n",
    "                            MultinomialNB()\n",
    ")\n",
    "\n",
    "model_pipe_SVM = make_pipeline(\n",
    "                            preprocess,\n",
    "                            SVC()\n",
    ")\n"
   ]
  },
  {
   "cell_type": "code",
   "execution_count": 37,
   "metadata": {},
   "outputs": [],
   "source": [
    "cv_svc = GridSearchCV(\n",
    "                    estimator = model_pipe_SVM,\n",
    "                    param_grid = grid_svc,\n",
    "                    scoring = 'accuracy',\n",
    "                    cv = 3, \n",
    "                    return_train_score=True )"
   ]
  },
  {
   "cell_type": "code",
   "execution_count": 36,
   "metadata": {},
   "outputs": [],
   "source": [
    "grid_svc = [{'svc__kernel': ['rbf'], \n",
    "             'svc__gamma': [1e-3, 1e-4],\n",
    "             'svc__C': [1, 10, 100, 1000]},\n",
    "            {'svc__kernel': ['linear'], 'svc__C': [1, 10, 100, 1000]}]"
   ]
  },
  {
   "cell_type": "code",
   "execution_count": 38,
   "metadata": {},
   "outputs": [
    {
     "data": {
      "text/plain": [
       "GridSearchCV(cv=3,\n",
       "             estimator=Pipeline(steps=[('columntransformer',\n",
       "                                        ColumnTransformer(transformers=[('tfidfvectorizer',\n",
       "                                                                         TfidfVectorizer(),\n",
       "                                                                         'Lyrics')])),\n",
       "                                       ('svc', SVC())]),\n",
       "             param_grid=[{'svc__C': [1, 10, 100, 1000],\n",
       "                          'svc__gamma': [0.001, 0.0001],\n",
       "                          'svc__kernel': ['rbf']},\n",
       "                         {'svc__C': [1, 10, 100, 1000],\n",
       "                          'svc__kernel': ['linear']}],\n",
       "             return_train_score=True, scoring='accuracy')"
      ]
     },
     "execution_count": 38,
     "metadata": {},
     "output_type": "execute_result"
    }
   ],
   "source": [
    "cv_svc.fit(X_train, y_train)"
   ]
  },
  {
   "cell_type": "code",
   "execution_count": 41,
   "metadata": {},
   "outputs": [],
   "source": [
    "cv_results=cv_results[['rank_test_score', 'mean_test_score', 'mean_train_score',\n",
    "                      'param_svc__C',\n",
    "                      'param_svc__gamma',\n",
    "                      'params']]"
   ]
  },
  {
   "cell_type": "code",
   "execution_count": 39,
   "metadata": {},
   "outputs": [],
   "source": [
    "cv_results = pd.DataFrame(cv.cv_results_)"
   ]
  },
  {
   "cell_type": "code",
   "execution_count": 42,
   "metadata": {},
   "outputs": [
    {
     "data": {
      "text/html": [
       "<div>\n",
       "<style scoped>\n",
       "    .dataframe tbody tr th:only-of-type {\n",
       "        vertical-align: middle;\n",
       "    }\n",
       "\n",
       "    .dataframe tbody tr th {\n",
       "        vertical-align: top;\n",
       "    }\n",
       "\n",
       "    .dataframe thead th {\n",
       "        text-align: right;\n",
       "    }\n",
       "</style>\n",
       "<table border=\"1\" class=\"dataframe\">\n",
       "  <thead>\n",
       "    <tr style=\"text-align: right;\">\n",
       "      <th></th>\n",
       "      <th>rank_test_score</th>\n",
       "      <th>mean_test_score</th>\n",
       "      <th>mean_train_score</th>\n",
       "      <th>param_svc__C</th>\n",
       "      <th>param_svc__gamma</th>\n",
       "      <th>params</th>\n",
       "    </tr>\n",
       "  </thead>\n",
       "  <tbody>\n",
       "    <tr>\n",
       "      <th>0</th>\n",
       "      <td>8</td>\n",
       "      <td>0.372636</td>\n",
       "      <td>0.372640</td>\n",
       "      <td>1</td>\n",
       "      <td>0.001</td>\n",
       "      <td>{'svc__C': 1, 'svc__gamma': 0.001, 'svc__kerne...</td>\n",
       "    </tr>\n",
       "    <tr>\n",
       "      <th>1</th>\n",
       "      <td>8</td>\n",
       "      <td>0.372636</td>\n",
       "      <td>0.372640</td>\n",
       "      <td>1</td>\n",
       "      <td>0.0001</td>\n",
       "      <td>{'svc__C': 1, 'svc__gamma': 0.0001, 'svc__kern...</td>\n",
       "    </tr>\n",
       "    <tr>\n",
       "      <th>2</th>\n",
       "      <td>8</td>\n",
       "      <td>0.372636</td>\n",
       "      <td>0.372640</td>\n",
       "      <td>10</td>\n",
       "      <td>0.001</td>\n",
       "      <td>{'svc__C': 10, 'svc__gamma': 0.001, 'svc__kern...</td>\n",
       "    </tr>\n",
       "    <tr>\n",
       "      <th>3</th>\n",
       "      <td>8</td>\n",
       "      <td>0.372636</td>\n",
       "      <td>0.372640</td>\n",
       "      <td>10</td>\n",
       "      <td>0.0001</td>\n",
       "      <td>{'svc__C': 10, 'svc__gamma': 0.0001, 'svc__ker...</td>\n",
       "    </tr>\n",
       "    <tr>\n",
       "      <th>4</th>\n",
       "      <td>6</td>\n",
       "      <td>0.391415</td>\n",
       "      <td>0.415193</td>\n",
       "      <td>100</td>\n",
       "      <td>0.001</td>\n",
       "      <td>{'svc__C': 100, 'svc__gamma': 0.001, 'svc__ker...</td>\n",
       "    </tr>\n",
       "    <tr>\n",
       "      <th>5</th>\n",
       "      <td>8</td>\n",
       "      <td>0.372636</td>\n",
       "      <td>0.372640</td>\n",
       "      <td>100</td>\n",
       "      <td>0.0001</td>\n",
       "      <td>{'svc__C': 100, 'svc__gamma': 0.0001, 'svc__ke...</td>\n",
       "    </tr>\n",
       "    <tr>\n",
       "      <th>6</th>\n",
       "      <td>1</td>\n",
       "      <td>0.745540</td>\n",
       "      <td>0.995289</td>\n",
       "      <td>1000</td>\n",
       "      <td>0.001</td>\n",
       "      <td>{'svc__C': 1000, 'svc__gamma': 0.001, 'svc__ke...</td>\n",
       "    </tr>\n",
       "    <tr>\n",
       "      <th>7</th>\n",
       "      <td>6</td>\n",
       "      <td>0.391415</td>\n",
       "      <td>0.415193</td>\n",
       "      <td>1000</td>\n",
       "      <td>0.0001</td>\n",
       "      <td>{'svc__C': 1000, 'svc__gamma': 0.0001, 'svc__k...</td>\n",
       "    </tr>\n",
       "    <tr>\n",
       "      <th>8</th>\n",
       "      <td>5</td>\n",
       "      <td>0.736083</td>\n",
       "      <td>0.995289</td>\n",
       "      <td>1</td>\n",
       "      <td>NaN</td>\n",
       "      <td>{'svc__C': 1, 'svc__kernel': 'linear'}</td>\n",
       "    </tr>\n",
       "    <tr>\n",
       "      <th>9</th>\n",
       "      <td>2</td>\n",
       "      <td>0.745473</td>\n",
       "      <td>1.000000</td>\n",
       "      <td>10</td>\n",
       "      <td>NaN</td>\n",
       "      <td>{'svc__C': 10, 'svc__kernel': 'linear'}</td>\n",
       "    </tr>\n",
       "    <tr>\n",
       "      <th>10</th>\n",
       "      <td>2</td>\n",
       "      <td>0.745473</td>\n",
       "      <td>1.000000</td>\n",
       "      <td>100</td>\n",
       "      <td>NaN</td>\n",
       "      <td>{'svc__C': 100, 'svc__kernel': 'linear'}</td>\n",
       "    </tr>\n",
       "    <tr>\n",
       "      <th>11</th>\n",
       "      <td>2</td>\n",
       "      <td>0.745473</td>\n",
       "      <td>1.000000</td>\n",
       "      <td>1000</td>\n",
       "      <td>NaN</td>\n",
       "      <td>{'svc__C': 1000, 'svc__kernel': 'linear'}</td>\n",
       "    </tr>\n",
       "  </tbody>\n",
       "</table>\n",
       "</div>"
      ],
      "text/plain": [
       "    rank_test_score  mean_test_score  mean_train_score param_svc__C  \\\n",
       "0                 8         0.372636          0.372640            1   \n",
       "1                 8         0.372636          0.372640            1   \n",
       "2                 8         0.372636          0.372640           10   \n",
       "3                 8         0.372636          0.372640           10   \n",
       "4                 6         0.391415          0.415193          100   \n",
       "5                 8         0.372636          0.372640          100   \n",
       "6                 1         0.745540          0.995289         1000   \n",
       "7                 6         0.391415          0.415193         1000   \n",
       "8                 5         0.736083          0.995289            1   \n",
       "9                 2         0.745473          1.000000           10   \n",
       "10                2         0.745473          1.000000          100   \n",
       "11                2         0.745473          1.000000         1000   \n",
       "\n",
       "   param_svc__gamma                                             params  \n",
       "0             0.001  {'svc__C': 1, 'svc__gamma': 0.001, 'svc__kerne...  \n",
       "1            0.0001  {'svc__C': 1, 'svc__gamma': 0.0001, 'svc__kern...  \n",
       "2             0.001  {'svc__C': 10, 'svc__gamma': 0.001, 'svc__kern...  \n",
       "3            0.0001  {'svc__C': 10, 'svc__gamma': 0.0001, 'svc__ker...  \n",
       "4             0.001  {'svc__C': 100, 'svc__gamma': 0.001, 'svc__ker...  \n",
       "5            0.0001  {'svc__C': 100, 'svc__gamma': 0.0001, 'svc__ke...  \n",
       "6             0.001  {'svc__C': 1000, 'svc__gamma': 0.001, 'svc__ke...  \n",
       "7            0.0001  {'svc__C': 1000, 'svc__gamma': 0.0001, 'svc__k...  \n",
       "8               NaN             {'svc__C': 1, 'svc__kernel': 'linear'}  \n",
       "9               NaN            {'svc__C': 10, 'svc__kernel': 'linear'}  \n",
       "10              NaN           {'svc__C': 100, 'svc__kernel': 'linear'}  \n",
       "11              NaN          {'svc__C': 1000, 'svc__kernel': 'linear'}  "
      ]
     },
     "execution_count": 42,
     "metadata": {},
     "output_type": "execute_result"
    }
   ],
   "source": [
    "cv_results"
   ]
  },
  {
   "cell_type": "code",
   "execution_count": null,
   "metadata": {},
   "outputs": [],
   "source": [
    "#cross-validation"
   ]
  },
  {
   "cell_type": "code",
   "execution_count": 22,
   "metadata": {},
   "outputs": [
    {
     "data": {
      "text/plain": [
       "Pipeline(steps=[('columntransformer',\n",
       "                 ColumnTransformer(transformers=[('tfidfvectorizer',\n",
       "                                                  TfidfVectorizer(),\n",
       "                                                  'Lyrics')])),\n",
       "                ('svc', SVC())])"
      ]
     },
     "execution_count": 22,
     "metadata": {},
     "output_type": "execute_result"
    }
   ],
   "source": [
    "# at end ..after grid search cv\n",
    "\n",
    "model_pipe_LR.fit(X_train,y_train)\n",
    "model_pipe_RF.fit(X_train,y_train)\n",
    "model_pipe_NB.fit(X_train,y_train)\n",
    "model_pipe_SVM.fit(X_train,y_train)"
   ]
  },
  {
   "cell_type": "code",
   "execution_count": 27,
   "metadata": {},
   "outputs": [],
   "source": [
    "# predict the data\n",
    "y_train_pred_LR = model_pipe_LR.predict(X_train)\n",
    "y_test_pred_LR = model_pipe_LR.predict(X_test)\n",
    "\n",
    "y_train_pred_RF = model_pipe_RF.predict(X_train)\n",
    "y_test_pred_RF = model_pipe_RF.predict(X_test)\n",
    "\n",
    "y_train_pred_NB = model_pipe_NB.predict(X_train)\n",
    "y_test_pred_NB = model_pipe_NB.predict(X_test)\n",
    "\n",
    "y_train_pred_SVM = model_pipe_SVM.predict(X_train)\n",
    "y_test_pred_SVM = model_pipe_SVM.predict(X_test)\n"
   ]
  },
  {
   "cell_type": "code",
   "execution_count": 28,
   "metadata": {},
   "outputs": [
    {
     "data": {
      "text/plain": [
       "0.7323943661971831"
      ]
     },
     "execution_count": 28,
     "metadata": {},
     "output_type": "execute_result"
    }
   ],
   "source": [
    "accuracy_score(y_test_pred_LR, y_test)"
   ]
  },
  {
   "cell_type": "code",
   "execution_count": 29,
   "metadata": {},
   "outputs": [
    {
     "data": {
      "text/plain": [
       "0.6619718309859155"
      ]
     },
     "execution_count": 29,
     "metadata": {},
     "output_type": "execute_result"
    }
   ],
   "source": [
    "accuracy_score(y_test_pred_RF, y_test)"
   ]
  },
  {
   "cell_type": "code",
   "execution_count": 30,
   "metadata": {},
   "outputs": [
    {
     "data": {
      "text/plain": [
       "0.5633802816901409"
      ]
     },
     "execution_count": 30,
     "metadata": {},
     "output_type": "execute_result"
    }
   ],
   "source": [
    "accuracy_score(y_test_pred_NB, y_test)"
   ]
  },
  {
   "cell_type": "code",
   "execution_count": 31,
   "metadata": {},
   "outputs": [
    {
     "data": {
      "text/plain": [
       "0.7323943661971831"
      ]
     },
     "execution_count": 31,
     "metadata": {},
     "output_type": "execute_result"
    }
   ],
   "source": [
    "accuracy_score(y_test_pred_SVM, y_test)"
   ]
  },
  {
   "cell_type": "code",
   "execution_count": 15,
   "metadata": {},
   "outputs": [],
   "source": [
    "model_pipe_RF = make_pipeline(\n",
    "            preprocess,\n",
    "            RandomForestClassifier())"
   ]
  },
  {
   "cell_type": "code",
   "execution_count": 16,
   "metadata": {},
   "outputs": [
    {
     "data": {
      "text/plain": [
       "Pipeline(steps=[('columntransformer',\n",
       "                 ColumnTransformer(transformers=[('tfidfvectorizer',\n",
       "                                                  TfidfVectorizer(),\n",
       "                                                  'Lyrics')])),\n",
       "                ('randomforestclassifier', RandomForestClassifier())])"
      ]
     },
     "execution_count": 16,
     "metadata": {},
     "output_type": "execute_result"
    }
   ],
   "source": [
    "model_pipe_RF.fit(X_train,y_train)"
   ]
  },
  {
   "cell_type": "code",
   "execution_count": 17,
   "metadata": {},
   "outputs": [],
   "source": [
    "# predict the data\n",
    "y_train_pred_RF = model_pipe_RF.predict(X_train)\n",
    "y_test_pred_RF = model_pipe_RF.predict(X_test)"
   ]
  },
  {
   "cell_type": "code",
   "execution_count": 18,
   "metadata": {},
   "outputs": [
    {
     "data": {
      "text/plain": [
       "0.647887323943662"
      ]
     },
     "execution_count": 18,
     "metadata": {},
     "output_type": "execute_result"
    }
   ],
   "source": [
    "accuracy_score(y_test_pred_RF, y_test)"
   ]
  },
  {
   "cell_type": "code",
   "execution_count": 32,
   "metadata": {},
   "outputs": [
    {
     "data": {
      "text/plain": [
       "{'memory': None,\n",
       " 'steps': [('columntransformer',\n",
       "   ColumnTransformer(transformers=[('tfidfvectorizer', TfidfVectorizer(),\n",
       "                                    'Lyrics')])),\n",
       "  ('svc', SVC())],\n",
       " 'verbose': False,\n",
       " 'columntransformer': ColumnTransformer(transformers=[('tfidfvectorizer', TfidfVectorizer(),\n",
       "                                  'Lyrics')]),\n",
       " 'svc': SVC(),\n",
       " 'columntransformer__n_jobs': None,\n",
       " 'columntransformer__remainder': 'drop',\n",
       " 'columntransformer__sparse_threshold': 0.3,\n",
       " 'columntransformer__transformer_weights': None,\n",
       " 'columntransformer__transformers': [('tfidfvectorizer',\n",
       "   TfidfVectorizer(),\n",
       "   'Lyrics')],\n",
       " 'columntransformer__verbose': False,\n",
       " 'columntransformer__tfidfvectorizer': TfidfVectorizer(),\n",
       " 'columntransformer__tfidfvectorizer__analyzer': 'word',\n",
       " 'columntransformer__tfidfvectorizer__binary': False,\n",
       " 'columntransformer__tfidfvectorizer__decode_error': 'strict',\n",
       " 'columntransformer__tfidfvectorizer__dtype': numpy.float64,\n",
       " 'columntransformer__tfidfvectorizer__encoding': 'utf-8',\n",
       " 'columntransformer__tfidfvectorizer__input': 'content',\n",
       " 'columntransformer__tfidfvectorizer__lowercase': True,\n",
       " 'columntransformer__tfidfvectorizer__max_df': 1.0,\n",
       " 'columntransformer__tfidfvectorizer__max_features': None,\n",
       " 'columntransformer__tfidfvectorizer__min_df': 1,\n",
       " 'columntransformer__tfidfvectorizer__ngram_range': (1, 1),\n",
       " 'columntransformer__tfidfvectorizer__norm': 'l2',\n",
       " 'columntransformer__tfidfvectorizer__preprocessor': None,\n",
       " 'columntransformer__tfidfvectorizer__smooth_idf': True,\n",
       " 'columntransformer__tfidfvectorizer__stop_words': None,\n",
       " 'columntransformer__tfidfvectorizer__strip_accents': None,\n",
       " 'columntransformer__tfidfvectorizer__sublinear_tf': False,\n",
       " 'columntransformer__tfidfvectorizer__token_pattern': '(?u)\\\\b\\\\w\\\\w+\\\\b',\n",
       " 'columntransformer__tfidfvectorizer__tokenizer': None,\n",
       " 'columntransformer__tfidfvectorizer__use_idf': True,\n",
       " 'columntransformer__tfidfvectorizer__vocabulary': None,\n",
       " 'svc__C': 1.0,\n",
       " 'svc__break_ties': False,\n",
       " 'svc__cache_size': 200,\n",
       " 'svc__class_weight': None,\n",
       " 'svc__coef0': 0.0,\n",
       " 'svc__decision_function_shape': 'ovr',\n",
       " 'svc__degree': 3,\n",
       " 'svc__gamma': 'scale',\n",
       " 'svc__kernel': 'rbf',\n",
       " 'svc__max_iter': -1,\n",
       " 'svc__probability': False,\n",
       " 'svc__random_state': None,\n",
       " 'svc__shrinking': True,\n",
       " 'svc__tol': 0.001,\n",
       " 'svc__verbose': False}"
      ]
     },
     "execution_count": 32,
     "metadata": {},
     "output_type": "execute_result"
    }
   ],
   "source": [
    "model_pipe_SVM.get_params()"
   ]
  },
  {
   "cell_type": "code",
   "execution_count": 45,
   "metadata": {},
   "outputs": [],
   "source": [
    "model_pipe_SVM_mod = make_pipeline(\n",
    "                            preprocess,\n",
    "                            SVC(C = 1000, gamma = 0.001) \n",
    ")"
   ]
  },
  {
   "cell_type": "code",
   "execution_count": 46,
   "metadata": {},
   "outputs": [
    {
     "data": {
      "text/plain": [
       "Pipeline(steps=[('columntransformer',\n",
       "                 ColumnTransformer(transformers=[('tfidfvectorizer',\n",
       "                                                  TfidfVectorizer(),\n",
       "                                                  'Lyrics')])),\n",
       "                ('svc', SVC(C=1000, gamma=0.001))])"
      ]
     },
     "execution_count": 46,
     "metadata": {},
     "output_type": "execute_result"
    }
   ],
   "source": [
    "model_pipe_SVM_mod.fit(X_train,y_train)"
   ]
  },
  {
   "cell_type": "code",
   "execution_count": 47,
   "metadata": {},
   "outputs": [],
   "source": [
    "y_train_pred_SVM_mod = model_pipe_SVM_mod.predict(X_train)\n",
    "y_test_pred_SVM_mod = model_pipe_SVM_mod.predict(X_test)"
   ]
  },
  {
   "cell_type": "code",
   "execution_count": 48,
   "metadata": {},
   "outputs": [
    {
     "data": {
      "text/plain": [
       "0.7605633802816901"
      ]
     },
     "execution_count": 48,
     "metadata": {},
     "output_type": "execute_result"
    }
   ],
   "source": [
    "accuracy_score(y_test_pred_SVM_mod, y_test)"
   ]
  },
  {
   "cell_type": "code",
   "execution_count": 49,
   "metadata": {},
   "outputs": [],
   "source": [
    "y_pred = cv.best_estimator_.predict(X)"
   ]
  },
  {
   "cell_type": "code",
   "execution_count": 50,
   "metadata": {},
   "outputs": [
    {
     "data": {
      "text/plain": [
       "array(['Bob Marley', 'Bob Marley', 'Bob Marley', 'Bob Marley',\n",
       "       'Bob Marley', 'Bob Marley', 'Bob Marley', 'Bob Marley',\n",
       "       'Bob Marley', 'Bob Marley', 'Bob Marley', 'Bob Marley',\n",
       "       'Bob Marley', 'Bob Marley', 'Bob Marley', 'Bob Marley',\n",
       "       'Bob Marley', 'Bob Marley', 'Bob Marley', 'Bob Marley',\n",
       "       'Bob Marley', 'Bob Marley', 'Bob Marley', 'Bob Marley',\n",
       "       'Bob Marley', 'Bob Marley', 'Bob Marley', 'Bob Marley',\n",
       "       'Bob Marley', 'Bob Marley', 'Bob Marley', 'Led Zeppelin',\n",
       "       'Michael Jackson', 'Bob Marley', 'Michael Jackson', 'Bob Marley',\n",
       "       'Michael Jackson', 'Bob Marley', 'Bob Marley', 'Bob Marley',\n",
       "       'Bob Marley', 'Bob Marley', 'Bob Marley', 'Bob Marley',\n",
       "       'Bob Marley', 'Bob Marley', 'Bob Marley', 'Bob Marley',\n",
       "       'Bob Marley', 'Bob Marley', 'Bob Marley', 'Bob Marley',\n",
       "       'Bob Marley', 'Bob Marley', 'Bob Marley', 'Bob Marley',\n",
       "       'Bob Marley', 'Bob Marley', 'Bob Marley', 'Bob Marley',\n",
       "       'Bob Marley', 'Bob Marley', 'Bob Marley', 'Bob Marley',\n",
       "       'Bob Marley', 'Bob Marley', 'Bob Marley', 'Bob Marley',\n",
       "       'Bob Marley', 'Bob Marley', 'Bob Marley', 'Michael Jackson',\n",
       "       'Bob Marley', 'Bob Marley', 'Bob Marley', 'Bob Marley',\n",
       "       'Bob Marley', 'Bob Marley', 'Bob Marley', 'Bob Marley',\n",
       "       'Led Zeppelin', 'Bob Marley', 'Bob Marley', 'Bob Marley',\n",
       "       'Bob Marley', 'Bob Marley', 'Bob Marley', 'Bob Marley',\n",
       "       'Bob Marley', 'Bob Marley', 'Bob Marley', 'Bob Marley',\n",
       "       'Bob Marley', 'Bob Marley', 'Bob Marley', 'Bob Marley',\n",
       "       'Led Zeppelin', 'Bob Marley', 'Bob Marley', 'Bob Marley',\n",
       "       'Bob Marley', 'Bob Marley', 'Bob Marley', 'Bob Marley',\n",
       "       'Bob Marley', 'Bob Marley', 'Bob Marley', 'Bob Marley',\n",
       "       'Michael Jackson', 'Michael Jackson', 'Michael Jackson',\n",
       "       'Michael Jackson', 'Led Zeppelin', 'Michael Jackson',\n",
       "       'Michael Jackson', 'Bob Marley', 'Led Zeppelin', 'Michael Jackson',\n",
       "       'Michael Jackson', 'Michael Jackson', 'Bob Marley',\n",
       "       'Michael Jackson', 'Michael Jackson', 'Michael Jackson',\n",
       "       'Bob Marley', 'Michael Jackson', 'Led Zeppelin', 'Michael Jackson',\n",
       "       'Michael Jackson', 'Michael Jackson', 'Michael Jackson',\n",
       "       'Michael Jackson', 'Michael Jackson', 'Michael Jackson',\n",
       "       'Michael Jackson', 'Michael Jackson', 'Michael Jackson',\n",
       "       'Michael Jackson', 'Michael Jackson', 'Michael Jackson',\n",
       "       'Michael Jackson', 'Michael Jackson', 'Michael Jackson',\n",
       "       'Michael Jackson', 'Michael Jackson', 'Michael Jackson',\n",
       "       'Michael Jackson', 'Michael Jackson', 'Michael Jackson',\n",
       "       'Michael Jackson', 'Michael Jackson', 'Michael Jackson',\n",
       "       'Michael Jackson', 'Michael Jackson', 'Michael Jackson',\n",
       "       'Michael Jackson', 'Michael Jackson', 'Michael Jackson',\n",
       "       'Michael Jackson', 'Michael Jackson', 'Michael Jackson',\n",
       "       'Michael Jackson', 'Michael Jackson', 'Michael Jackson',\n",
       "       'Michael Jackson', 'Michael Jackson', 'Michael Jackson',\n",
       "       'Michael Jackson', 'Michael Jackson', 'Michael Jackson',\n",
       "       'Michael Jackson', 'Michael Jackson', 'Michael Jackson',\n",
       "       'Michael Jackson', 'Michael Jackson', 'Michael Jackson',\n",
       "       'Michael Jackson', 'Michael Jackson', 'Michael Jackson',\n",
       "       'Michael Jackson', 'Michael Jackson', 'Michael Jackson',\n",
       "       'Michael Jackson', 'Michael Jackson', 'Led Zeppelin',\n",
       "       'Michael Jackson', 'Michael Jackson', 'Michael Jackson',\n",
       "       'Michael Jackson', 'Michael Jackson', 'Michael Jackson',\n",
       "       'Michael Jackson', 'Michael Jackson', 'Michael Jackson',\n",
       "       'Led Zeppelin', 'Led Zeppelin', 'Led Zeppelin', 'Led Zeppelin',\n",
       "       'Led Zeppelin', 'Led Zeppelin', 'Led Zeppelin', 'Led Zeppelin',\n",
       "       'Bob Marley', 'Michael Jackson', 'Led Zeppelin', 'Led Zeppelin',\n",
       "       'Led Zeppelin', 'Led Zeppelin', 'Led Zeppelin', 'Led Zeppelin',\n",
       "       'Led Zeppelin', 'Led Zeppelin', 'Led Zeppelin', 'Led Zeppelin',\n",
       "       'Led Zeppelin', 'Led Zeppelin', 'Led Zeppelin', 'Led Zeppelin',\n",
       "       'Led Zeppelin', 'Led Zeppelin', 'Led Zeppelin', 'Led Zeppelin',\n",
       "       'Led Zeppelin', 'Led Zeppelin', 'Led Zeppelin', 'Led Zeppelin',\n",
       "       'Led Zeppelin', 'Led Zeppelin', 'Led Zeppelin', 'Led Zeppelin',\n",
       "       'Led Zeppelin', 'Led Zeppelin', 'Led Zeppelin', 'Led Zeppelin',\n",
       "       'Led Zeppelin', 'Led Zeppelin', 'Led Zeppelin', 'Michael Jackson',\n",
       "       'Led Zeppelin', 'Led Zeppelin', 'Led Zeppelin', 'Led Zeppelin',\n",
       "       'Led Zeppelin', 'Led Zeppelin', 'Led Zeppelin', 'Led Zeppelin',\n",
       "       'Led Zeppelin', 'Led Zeppelin', 'Led Zeppelin', 'Led Zeppelin',\n",
       "       'Led Zeppelin', 'Led Zeppelin', 'Led Zeppelin', 'Led Zeppelin',\n",
       "       'Led Zeppelin', 'Led Zeppelin', 'Led Zeppelin', 'Led Zeppelin',\n",
       "       'Led Zeppelin', 'Led Zeppelin', 'Led Zeppelin', 'Led Zeppelin',\n",
       "       'Led Zeppelin', 'Led Zeppelin', 'Led Zeppelin', 'Led Zeppelin',\n",
       "       'Led Zeppelin', 'Led Zeppelin', 'Led Zeppelin', 'Led Zeppelin',\n",
       "       'Led Zeppelin', 'Led Zeppelin', 'Led Zeppelin', 'Led Zeppelin',\n",
       "       'Bob Marley', 'Led Zeppelin', 'Led Zeppelin', 'Led Zeppelin',\n",
       "       'Led Zeppelin', 'Led Zeppelin', 'Led Zeppelin', 'Led Zeppelin',\n",
       "       'Led Zeppelin'], dtype=object)"
      ]
     },
     "execution_count": 50,
     "metadata": {},
     "output_type": "execute_result"
    }
   ],
   "source": [
    "y_pred"
   ]
  },
  {
   "cell_type": "code",
   "execution_count": 64,
   "metadata": {},
   "outputs": [],
   "source": [
    "grid = {'columntransformer__tfidfvectorizer__lowercase': [True, False],\n",
    "        'columntransformer__tfidfvectorizer__ngram_range': [(1, 1), (1,2)],\n",
    "        'randomforestclassifier__max_depth': [2,3,4]\n",
    "       }"
   ]
  },
  {
   "cell_type": "code",
   "execution_count": 67,
   "metadata": {},
   "outputs": [],
   "source": [
    "cv = GridSearchCV(\n",
    "                    estimator = model_pipe_RF,\n",
    "                    param_grid = grid,\n",
    "                    scoring = 'accuracy',\n",
    "                    cv = 3, \n",
    "                    return_train_score=True )"
   ]
  },
  {
   "cell_type": "code",
   "execution_count": 17,
   "metadata": {},
   "outputs": [
    {
     "data": {
      "text/plain": [
       "Index(['index', 'Lyrics'], dtype='object')"
      ]
     },
     "execution_count": 17,
     "metadata": {},
     "output_type": "execute_result"
    }
   ],
   "source": [
    "X.columns"
   ]
  },
  {
   "cell_type": "code",
   "execution_count": 68,
   "metadata": {},
   "outputs": [
    {
     "data": {
      "text/plain": [
       "GridSearchCV(cv=3,\n",
       "             estimator=Pipeline(steps=[('columntransformer',\n",
       "                                        ColumnTransformer(transformers=[('tfidfvectorizer',\n",
       "                                                                         TfidfVectorizer(),\n",
       "                                                                         'Lyrics')])),\n",
       "                                       ('randomforestclassifier',\n",
       "                                        RandomForestClassifier())]),\n",
       "             param_grid={'columntransformer__tfidfvectorizer__lowercase': [True,\n",
       "                                                                           False],\n",
       "                         'columntransformer__tfidfvectorizer__ngram_range': [(1,\n",
       "                                                                              1),\n",
       "                                                                             (1,\n",
       "                                                                              2)],\n",
       "                         'randomforestclassifier__max_depth': [2, 3, 4]},\n",
       "             return_train_score=True, scoring='accuracy')"
      ]
     },
     "execution_count": 68,
     "metadata": {},
     "output_type": "execute_result"
    }
   ],
   "source": [
    "cv.fit(X_train, y_train)"
   ]
  },
  {
   "cell_type": "code",
   "execution_count": 69,
   "metadata": {},
   "outputs": [],
   "source": [
    "cv_results = pd.DataFrame(cv.cv_results_)"
   ]
  },
  {
   "cell_type": "code",
   "execution_count": 70,
   "metadata": {},
   "outputs": [
    {
     "data": {
      "text/html": [
       "<div>\n",
       "<style scoped>\n",
       "    .dataframe tbody tr th:only-of-type {\n",
       "        vertical-align: middle;\n",
       "    }\n",
       "\n",
       "    .dataframe tbody tr th {\n",
       "        vertical-align: top;\n",
       "    }\n",
       "\n",
       "    .dataframe thead th {\n",
       "        text-align: right;\n",
       "    }\n",
       "</style>\n",
       "<table border=\"1\" class=\"dataframe\">\n",
       "  <thead>\n",
       "    <tr style=\"text-align: right;\">\n",
       "      <th></th>\n",
       "      <th>mean_fit_time</th>\n",
       "      <th>std_fit_time</th>\n",
       "      <th>mean_score_time</th>\n",
       "      <th>std_score_time</th>\n",
       "      <th>param_columntransformer__tfidfvectorizer__lowercase</th>\n",
       "      <th>param_columntransformer__tfidfvectorizer__ngram_range</th>\n",
       "      <th>param_randomforestclassifier__max_depth</th>\n",
       "      <th>params</th>\n",
       "      <th>split0_test_score</th>\n",
       "      <th>split1_test_score</th>\n",
       "      <th>split2_test_score</th>\n",
       "      <th>mean_test_score</th>\n",
       "      <th>std_test_score</th>\n",
       "      <th>rank_test_score</th>\n",
       "      <th>split0_train_score</th>\n",
       "      <th>split1_train_score</th>\n",
       "      <th>split2_train_score</th>\n",
       "      <th>mean_train_score</th>\n",
       "      <th>std_train_score</th>\n",
       "    </tr>\n",
       "  </thead>\n",
       "  <tbody>\n",
       "    <tr>\n",
       "      <th>0</th>\n",
       "      <td>0.115634</td>\n",
       "      <td>0.005373</td>\n",
       "      <td>0.018910</td>\n",
       "      <td>0.000641</td>\n",
       "      <td>True</td>\n",
       "      <td>(1, 1)</td>\n",
       "      <td>2</td>\n",
       "      <td>{'columntransformer__tfidfvectorizer__lowercas...</td>\n",
       "      <td>0.545455</td>\n",
       "      <td>0.522727</td>\n",
       "      <td>0.511364</td>\n",
       "      <td>0.526515</td>\n",
       "      <td>0.014173</td>\n",
       "      <td>6</td>\n",
       "      <td>0.721591</td>\n",
       "      <td>0.715909</td>\n",
       "      <td>0.750000</td>\n",
       "      <td>0.729167</td>\n",
       "      <td>0.014913</td>\n",
       "    </tr>\n",
       "    <tr>\n",
       "      <th>1</th>\n",
       "      <td>0.117442</td>\n",
       "      <td>0.000205</td>\n",
       "      <td>0.019392</td>\n",
       "      <td>0.000687</td>\n",
       "      <td>True</td>\n",
       "      <td>(1, 1)</td>\n",
       "      <td>3</td>\n",
       "      <td>{'columntransformer__tfidfvectorizer__lowercas...</td>\n",
       "      <td>0.511364</td>\n",
       "      <td>0.556818</td>\n",
       "      <td>0.545455</td>\n",
       "      <td>0.537879</td>\n",
       "      <td>0.019314</td>\n",
       "      <td>4</td>\n",
       "      <td>0.880682</td>\n",
       "      <td>0.823864</td>\n",
       "      <td>0.795455</td>\n",
       "      <td>0.833333</td>\n",
       "      <td>0.035432</td>\n",
       "    </tr>\n",
       "    <tr>\n",
       "      <th>2</th>\n",
       "      <td>0.136099</td>\n",
       "      <td>0.027136</td>\n",
       "      <td>0.018799</td>\n",
       "      <td>0.000140</td>\n",
       "      <td>True</td>\n",
       "      <td>(1, 1)</td>\n",
       "      <td>4</td>\n",
       "      <td>{'columntransformer__tfidfvectorizer__lowercas...</td>\n",
       "      <td>0.636364</td>\n",
       "      <td>0.522727</td>\n",
       "      <td>0.522727</td>\n",
       "      <td>0.560606</td>\n",
       "      <td>0.053569</td>\n",
       "      <td>1</td>\n",
       "      <td>0.926136</td>\n",
       "      <td>0.863636</td>\n",
       "      <td>0.897727</td>\n",
       "      <td>0.895833</td>\n",
       "      <td>0.025551</td>\n",
       "    </tr>\n",
       "    <tr>\n",
       "      <th>3</th>\n",
       "      <td>0.172403</td>\n",
       "      <td>0.014679</td>\n",
       "      <td>0.031465</td>\n",
       "      <td>0.000505</td>\n",
       "      <td>True</td>\n",
       "      <td>(1, 2)</td>\n",
       "      <td>2</td>\n",
       "      <td>{'columntransformer__tfidfvectorizer__lowercas...</td>\n",
       "      <td>0.522727</td>\n",
       "      <td>0.454545</td>\n",
       "      <td>0.511364</td>\n",
       "      <td>0.496212</td>\n",
       "      <td>0.029826</td>\n",
       "      <td>10</td>\n",
       "      <td>0.693182</td>\n",
       "      <td>0.715909</td>\n",
       "      <td>0.698864</td>\n",
       "      <td>0.702652</td>\n",
       "      <td>0.009657</td>\n",
       "    </tr>\n",
       "    <tr>\n",
       "      <th>4</th>\n",
       "      <td>0.173208</td>\n",
       "      <td>0.015395</td>\n",
       "      <td>0.031485</td>\n",
       "      <td>0.000931</td>\n",
       "      <td>True</td>\n",
       "      <td>(1, 2)</td>\n",
       "      <td>3</td>\n",
       "      <td>{'columntransformer__tfidfvectorizer__lowercas...</td>\n",
       "      <td>0.500000</td>\n",
       "      <td>0.477273</td>\n",
       "      <td>0.556818</td>\n",
       "      <td>0.511364</td>\n",
       "      <td>0.033454</td>\n",
       "      <td>8</td>\n",
       "      <td>0.840909</td>\n",
       "      <td>0.710227</td>\n",
       "      <td>0.772727</td>\n",
       "      <td>0.774621</td>\n",
       "      <td>0.053367</td>\n",
       "    </tr>\n",
       "    <tr>\n",
       "      <th>5</th>\n",
       "      <td>0.155835</td>\n",
       "      <td>0.000233</td>\n",
       "      <td>0.030034</td>\n",
       "      <td>0.000484</td>\n",
       "      <td>True</td>\n",
       "      <td>(1, 2)</td>\n",
       "      <td>4</td>\n",
       "      <td>{'columntransformer__tfidfvectorizer__lowercas...</td>\n",
       "      <td>0.568182</td>\n",
       "      <td>0.545455</td>\n",
       "      <td>0.522727</td>\n",
       "      <td>0.545455</td>\n",
       "      <td>0.018557</td>\n",
       "      <td>3</td>\n",
       "      <td>0.886364</td>\n",
       "      <td>0.784091</td>\n",
       "      <td>0.818182</td>\n",
       "      <td>0.829545</td>\n",
       "      <td>0.042519</td>\n",
       "    </tr>\n",
       "    <tr>\n",
       "      <th>6</th>\n",
       "      <td>0.114097</td>\n",
       "      <td>0.001231</td>\n",
       "      <td>0.019061</td>\n",
       "      <td>0.000170</td>\n",
       "      <td>False</td>\n",
       "      <td>(1, 1)</td>\n",
       "      <td>2</td>\n",
       "      <td>{'columntransformer__tfidfvectorizer__lowercas...</td>\n",
       "      <td>0.477273</td>\n",
       "      <td>0.488636</td>\n",
       "      <td>0.545455</td>\n",
       "      <td>0.503788</td>\n",
       "      <td>0.029826</td>\n",
       "      <td>9</td>\n",
       "      <td>0.778409</td>\n",
       "      <td>0.710227</td>\n",
       "      <td>0.715909</td>\n",
       "      <td>0.734848</td>\n",
       "      <td>0.030889</td>\n",
       "    </tr>\n",
       "    <tr>\n",
       "      <th>7</th>\n",
       "      <td>0.110833</td>\n",
       "      <td>0.000937</td>\n",
       "      <td>0.017880</td>\n",
       "      <td>0.000372</td>\n",
       "      <td>False</td>\n",
       "      <td>(1, 1)</td>\n",
       "      <td>3</td>\n",
       "      <td>{'columntransformer__tfidfvectorizer__lowercas...</td>\n",
       "      <td>0.556818</td>\n",
       "      <td>0.511364</td>\n",
       "      <td>0.534091</td>\n",
       "      <td>0.534091</td>\n",
       "      <td>0.018557</td>\n",
       "      <td>5</td>\n",
       "      <td>0.886364</td>\n",
       "      <td>0.812500</td>\n",
       "      <td>0.818182</td>\n",
       "      <td>0.839015</td>\n",
       "      <td>0.033561</td>\n",
       "    </tr>\n",
       "    <tr>\n",
       "      <th>8</th>\n",
       "      <td>0.115793</td>\n",
       "      <td>0.002613</td>\n",
       "      <td>0.019309</td>\n",
       "      <td>0.000130</td>\n",
       "      <td>False</td>\n",
       "      <td>(1, 1)</td>\n",
       "      <td>4</td>\n",
       "      <td>{'columntransformer__tfidfvectorizer__lowercas...</td>\n",
       "      <td>0.579545</td>\n",
       "      <td>0.522727</td>\n",
       "      <td>0.568182</td>\n",
       "      <td>0.556818</td>\n",
       "      <td>0.024548</td>\n",
       "      <td>2</td>\n",
       "      <td>0.971591</td>\n",
       "      <td>0.948864</td>\n",
       "      <td>0.903409</td>\n",
       "      <td>0.941288</td>\n",
       "      <td>0.028346</td>\n",
       "    </tr>\n",
       "    <tr>\n",
       "      <th>9</th>\n",
       "      <td>0.147964</td>\n",
       "      <td>0.002805</td>\n",
       "      <td>0.029889</td>\n",
       "      <td>0.000629</td>\n",
       "      <td>False</td>\n",
       "      <td>(1, 2)</td>\n",
       "      <td>2</td>\n",
       "      <td>{'columntransformer__tfidfvectorizer__lowercas...</td>\n",
       "      <td>0.465909</td>\n",
       "      <td>0.443182</td>\n",
       "      <td>0.511364</td>\n",
       "      <td>0.473485</td>\n",
       "      <td>0.028346</td>\n",
       "      <td>12</td>\n",
       "      <td>0.676136</td>\n",
       "      <td>0.670455</td>\n",
       "      <td>0.704545</td>\n",
       "      <td>0.683712</td>\n",
       "      <td>0.014913</td>\n",
       "    </tr>\n",
       "    <tr>\n",
       "      <th>10</th>\n",
       "      <td>0.149683</td>\n",
       "      <td>0.001760</td>\n",
       "      <td>0.029385</td>\n",
       "      <td>0.000892</td>\n",
       "      <td>False</td>\n",
       "      <td>(1, 2)</td>\n",
       "      <td>3</td>\n",
       "      <td>{'columntransformer__tfidfvectorizer__lowercas...</td>\n",
       "      <td>0.500000</td>\n",
       "      <td>0.488636</td>\n",
       "      <td>0.454545</td>\n",
       "      <td>0.481061</td>\n",
       "      <td>0.019314</td>\n",
       "      <td>11</td>\n",
       "      <td>0.778409</td>\n",
       "      <td>0.772727</td>\n",
       "      <td>0.732955</td>\n",
       "      <td>0.761364</td>\n",
       "      <td>0.020222</td>\n",
       "    </tr>\n",
       "    <tr>\n",
       "      <th>11</th>\n",
       "      <td>0.151323</td>\n",
       "      <td>0.000923</td>\n",
       "      <td>0.029403</td>\n",
       "      <td>0.000052</td>\n",
       "      <td>False</td>\n",
       "      <td>(1, 2)</td>\n",
       "      <td>4</td>\n",
       "      <td>{'columntransformer__tfidfvectorizer__lowercas...</td>\n",
       "      <td>0.568182</td>\n",
       "      <td>0.488636</td>\n",
       "      <td>0.500000</td>\n",
       "      <td>0.518939</td>\n",
       "      <td>0.035127</td>\n",
       "      <td>7</td>\n",
       "      <td>0.818182</td>\n",
       "      <td>0.863636</td>\n",
       "      <td>0.835227</td>\n",
       "      <td>0.839015</td>\n",
       "      <td>0.018749</td>\n",
       "    </tr>\n",
       "  </tbody>\n",
       "</table>\n",
       "</div>"
      ],
      "text/plain": [
       "    mean_fit_time  std_fit_time  mean_score_time  std_score_time  \\\n",
       "0        0.115634      0.005373         0.018910        0.000641   \n",
       "1        0.117442      0.000205         0.019392        0.000687   \n",
       "2        0.136099      0.027136         0.018799        0.000140   \n",
       "3        0.172403      0.014679         0.031465        0.000505   \n",
       "4        0.173208      0.015395         0.031485        0.000931   \n",
       "5        0.155835      0.000233         0.030034        0.000484   \n",
       "6        0.114097      0.001231         0.019061        0.000170   \n",
       "7        0.110833      0.000937         0.017880        0.000372   \n",
       "8        0.115793      0.002613         0.019309        0.000130   \n",
       "9        0.147964      0.002805         0.029889        0.000629   \n",
       "10       0.149683      0.001760         0.029385        0.000892   \n",
       "11       0.151323      0.000923         0.029403        0.000052   \n",
       "\n",
       "   param_columntransformer__tfidfvectorizer__lowercase  \\\n",
       "0                                                True    \n",
       "1                                                True    \n",
       "2                                                True    \n",
       "3                                                True    \n",
       "4                                                True    \n",
       "5                                                True    \n",
       "6                                               False    \n",
       "7                                               False    \n",
       "8                                               False    \n",
       "9                                               False    \n",
       "10                                              False    \n",
       "11                                              False    \n",
       "\n",
       "   param_columntransformer__tfidfvectorizer__ngram_range  \\\n",
       "0                                              (1, 1)      \n",
       "1                                              (1, 1)      \n",
       "2                                              (1, 1)      \n",
       "3                                              (1, 2)      \n",
       "4                                              (1, 2)      \n",
       "5                                              (1, 2)      \n",
       "6                                              (1, 1)      \n",
       "7                                              (1, 1)      \n",
       "8                                              (1, 1)      \n",
       "9                                              (1, 2)      \n",
       "10                                             (1, 2)      \n",
       "11                                             (1, 2)      \n",
       "\n",
       "   param_randomforestclassifier__max_depth  \\\n",
       "0                                        2   \n",
       "1                                        3   \n",
       "2                                        4   \n",
       "3                                        2   \n",
       "4                                        3   \n",
       "5                                        4   \n",
       "6                                        2   \n",
       "7                                        3   \n",
       "8                                        4   \n",
       "9                                        2   \n",
       "10                                       3   \n",
       "11                                       4   \n",
       "\n",
       "                                               params  split0_test_score  \\\n",
       "0   {'columntransformer__tfidfvectorizer__lowercas...           0.545455   \n",
       "1   {'columntransformer__tfidfvectorizer__lowercas...           0.511364   \n",
       "2   {'columntransformer__tfidfvectorizer__lowercas...           0.636364   \n",
       "3   {'columntransformer__tfidfvectorizer__lowercas...           0.522727   \n",
       "4   {'columntransformer__tfidfvectorizer__lowercas...           0.500000   \n",
       "5   {'columntransformer__tfidfvectorizer__lowercas...           0.568182   \n",
       "6   {'columntransformer__tfidfvectorizer__lowercas...           0.477273   \n",
       "7   {'columntransformer__tfidfvectorizer__lowercas...           0.556818   \n",
       "8   {'columntransformer__tfidfvectorizer__lowercas...           0.579545   \n",
       "9   {'columntransformer__tfidfvectorizer__lowercas...           0.465909   \n",
       "10  {'columntransformer__tfidfvectorizer__lowercas...           0.500000   \n",
       "11  {'columntransformer__tfidfvectorizer__lowercas...           0.568182   \n",
       "\n",
       "    split1_test_score  split2_test_score  mean_test_score  std_test_score  \\\n",
       "0            0.522727           0.511364         0.526515        0.014173   \n",
       "1            0.556818           0.545455         0.537879        0.019314   \n",
       "2            0.522727           0.522727         0.560606        0.053569   \n",
       "3            0.454545           0.511364         0.496212        0.029826   \n",
       "4            0.477273           0.556818         0.511364        0.033454   \n",
       "5            0.545455           0.522727         0.545455        0.018557   \n",
       "6            0.488636           0.545455         0.503788        0.029826   \n",
       "7            0.511364           0.534091         0.534091        0.018557   \n",
       "8            0.522727           0.568182         0.556818        0.024548   \n",
       "9            0.443182           0.511364         0.473485        0.028346   \n",
       "10           0.488636           0.454545         0.481061        0.019314   \n",
       "11           0.488636           0.500000         0.518939        0.035127   \n",
       "\n",
       "    rank_test_score  split0_train_score  split1_train_score  \\\n",
       "0                 6            0.721591            0.715909   \n",
       "1                 4            0.880682            0.823864   \n",
       "2                 1            0.926136            0.863636   \n",
       "3                10            0.693182            0.715909   \n",
       "4                 8            0.840909            0.710227   \n",
       "5                 3            0.886364            0.784091   \n",
       "6                 9            0.778409            0.710227   \n",
       "7                 5            0.886364            0.812500   \n",
       "8                 2            0.971591            0.948864   \n",
       "9                12            0.676136            0.670455   \n",
       "10               11            0.778409            0.772727   \n",
       "11                7            0.818182            0.863636   \n",
       "\n",
       "    split2_train_score  mean_train_score  std_train_score  \n",
       "0             0.750000          0.729167         0.014913  \n",
       "1             0.795455          0.833333         0.035432  \n",
       "2             0.897727          0.895833         0.025551  \n",
       "3             0.698864          0.702652         0.009657  \n",
       "4             0.772727          0.774621         0.053367  \n",
       "5             0.818182          0.829545         0.042519  \n",
       "6             0.715909          0.734848         0.030889  \n",
       "7             0.818182          0.839015         0.033561  \n",
       "8             0.903409          0.941288         0.028346  \n",
       "9             0.704545          0.683712         0.014913  \n",
       "10            0.732955          0.761364         0.020222  \n",
       "11            0.835227          0.839015         0.018749  "
      ]
     },
     "execution_count": 70,
     "metadata": {},
     "output_type": "execute_result"
    }
   ],
   "source": [
    "cv_results"
   ]
  },
  {
   "cell_type": "code",
   "execution_count": 22,
   "metadata": {},
   "outputs": [
    {
     "data": {
      "text/plain": [
       "Index(['mean_fit_time', 'std_fit_time', 'mean_score_time', 'std_score_time',\n",
       "       'param_columntransformer__tfidfvectorizer__lowercase',\n",
       "       'param_columntransformer__tfidfvectorizer__ngram_range',\n",
       "       'param_randomforestclassifier__max_depth', 'params',\n",
       "       'split0_test_score', 'split1_test_score', 'split2_test_score',\n",
       "       'mean_test_score', 'std_test_score', 'rank_test_score',\n",
       "       'split0_train_score', 'split1_train_score', 'split2_train_score',\n",
       "       'mean_train_score', 'std_train_score'],\n",
       "      dtype='object')"
      ]
     },
     "execution_count": 22,
     "metadata": {},
     "output_type": "execute_result"
    }
   ],
   "source": [
    "cv_results.columns"
   ]
  },
  {
   "cell_type": "code",
   "execution_count": 74,
   "metadata": {},
   "outputs": [
    {
     "ename": "KeyError",
     "evalue": "\"['param_randomforestclassifier__max_depth'] not in index\"",
     "output_type": "error",
     "traceback": [
      "\u001b[0;31m---------------------------------------------------------------------------\u001b[0m",
      "\u001b[0;31mKeyError\u001b[0m                                  Traceback (most recent call last)",
      "\u001b[0;32m<ipython-input-74-f7cc324463fd>\u001b[0m in \u001b[0;36m<module>\u001b[0;34m\u001b[0m\n\u001b[0;32m----> 1\u001b[0;31m cv_results=cv_results[['rank_test_score', 'mean_test_score', 'mean_train_score',\n\u001b[0m\u001b[1;32m      2\u001b[0m                       \u001b[0;34m'param_columntransformer__tfidfvectorizer__lowercase'\u001b[0m\u001b[0;34m,\u001b[0m\u001b[0;34m\u001b[0m\u001b[0;34m\u001b[0m\u001b[0m\n\u001b[1;32m      3\u001b[0m                       \u001b[0;34m'param_columntransformer__tfidfvectorizer__ngram_range'\u001b[0m\u001b[0;34m,\u001b[0m\u001b[0;34m\u001b[0m\u001b[0;34m\u001b[0m\u001b[0m\n\u001b[1;32m      4\u001b[0m                       'param_randomforestclassifier__max_depth']]\n",
      "\u001b[0;32m~/anaconda3/envs/wikiscraper/lib/python3.8/site-packages/pandas/core/frame.py\u001b[0m in \u001b[0;36m__getitem__\u001b[0;34m(self, key)\u001b[0m\n\u001b[1;32m   2906\u001b[0m             \u001b[0;32mif\u001b[0m \u001b[0mis_iterator\u001b[0m\u001b[0;34m(\u001b[0m\u001b[0mkey\u001b[0m\u001b[0;34m)\u001b[0m\u001b[0;34m:\u001b[0m\u001b[0;34m\u001b[0m\u001b[0;34m\u001b[0m\u001b[0m\n\u001b[1;32m   2907\u001b[0m                 \u001b[0mkey\u001b[0m \u001b[0;34m=\u001b[0m \u001b[0mlist\u001b[0m\u001b[0;34m(\u001b[0m\u001b[0mkey\u001b[0m\u001b[0;34m)\u001b[0m\u001b[0;34m\u001b[0m\u001b[0;34m\u001b[0m\u001b[0m\n\u001b[0;32m-> 2908\u001b[0;31m             \u001b[0mindexer\u001b[0m \u001b[0;34m=\u001b[0m \u001b[0mself\u001b[0m\u001b[0;34m.\u001b[0m\u001b[0mloc\u001b[0m\u001b[0;34m.\u001b[0m\u001b[0m_get_listlike_indexer\u001b[0m\u001b[0;34m(\u001b[0m\u001b[0mkey\u001b[0m\u001b[0;34m,\u001b[0m \u001b[0maxis\u001b[0m\u001b[0;34m=\u001b[0m\u001b[0;36m1\u001b[0m\u001b[0;34m,\u001b[0m \u001b[0mraise_missing\u001b[0m\u001b[0;34m=\u001b[0m\u001b[0;32mTrue\u001b[0m\u001b[0;34m)\u001b[0m\u001b[0;34m[\u001b[0m\u001b[0;36m1\u001b[0m\u001b[0;34m]\u001b[0m\u001b[0;34m\u001b[0m\u001b[0;34m\u001b[0m\u001b[0m\n\u001b[0m\u001b[1;32m   2909\u001b[0m \u001b[0;34m\u001b[0m\u001b[0m\n\u001b[1;32m   2910\u001b[0m         \u001b[0;31m# take() does not accept boolean indexers\u001b[0m\u001b[0;34m\u001b[0m\u001b[0;34m\u001b[0m\u001b[0;34m\u001b[0m\u001b[0m\n",
      "\u001b[0;32m~/anaconda3/envs/wikiscraper/lib/python3.8/site-packages/pandas/core/indexing.py\u001b[0m in \u001b[0;36m_get_listlike_indexer\u001b[0;34m(self, key, axis, raise_missing)\u001b[0m\n\u001b[1;32m   1252\u001b[0m             \u001b[0mkeyarr\u001b[0m\u001b[0;34m,\u001b[0m \u001b[0mindexer\u001b[0m\u001b[0;34m,\u001b[0m \u001b[0mnew_indexer\u001b[0m \u001b[0;34m=\u001b[0m \u001b[0max\u001b[0m\u001b[0;34m.\u001b[0m\u001b[0m_reindex_non_unique\u001b[0m\u001b[0;34m(\u001b[0m\u001b[0mkeyarr\u001b[0m\u001b[0;34m)\u001b[0m\u001b[0;34m\u001b[0m\u001b[0;34m\u001b[0m\u001b[0m\n\u001b[1;32m   1253\u001b[0m \u001b[0;34m\u001b[0m\u001b[0m\n\u001b[0;32m-> 1254\u001b[0;31m         \u001b[0mself\u001b[0m\u001b[0;34m.\u001b[0m\u001b[0m_validate_read_indexer\u001b[0m\u001b[0;34m(\u001b[0m\u001b[0mkeyarr\u001b[0m\u001b[0;34m,\u001b[0m \u001b[0mindexer\u001b[0m\u001b[0;34m,\u001b[0m \u001b[0maxis\u001b[0m\u001b[0;34m,\u001b[0m \u001b[0mraise_missing\u001b[0m\u001b[0;34m=\u001b[0m\u001b[0mraise_missing\u001b[0m\u001b[0;34m)\u001b[0m\u001b[0;34m\u001b[0m\u001b[0;34m\u001b[0m\u001b[0m\n\u001b[0m\u001b[1;32m   1255\u001b[0m         \u001b[0;32mreturn\u001b[0m \u001b[0mkeyarr\u001b[0m\u001b[0;34m,\u001b[0m \u001b[0mindexer\u001b[0m\u001b[0;34m\u001b[0m\u001b[0;34m\u001b[0m\u001b[0m\n\u001b[1;32m   1256\u001b[0m \u001b[0;34m\u001b[0m\u001b[0m\n",
      "\u001b[0;32m~/anaconda3/envs/wikiscraper/lib/python3.8/site-packages/pandas/core/indexing.py\u001b[0m in \u001b[0;36m_validate_read_indexer\u001b[0;34m(self, key, indexer, axis, raise_missing)\u001b[0m\n\u001b[1;32m   1302\u001b[0m             \u001b[0;32mif\u001b[0m \u001b[0mraise_missing\u001b[0m\u001b[0;34m:\u001b[0m\u001b[0;34m\u001b[0m\u001b[0;34m\u001b[0m\u001b[0m\n\u001b[1;32m   1303\u001b[0m                 \u001b[0mnot_found\u001b[0m \u001b[0;34m=\u001b[0m \u001b[0mlist\u001b[0m\u001b[0;34m(\u001b[0m\u001b[0mset\u001b[0m\u001b[0;34m(\u001b[0m\u001b[0mkey\u001b[0m\u001b[0;34m)\u001b[0m \u001b[0;34m-\u001b[0m \u001b[0mset\u001b[0m\u001b[0;34m(\u001b[0m\u001b[0max\u001b[0m\u001b[0;34m)\u001b[0m\u001b[0;34m)\u001b[0m\u001b[0;34m\u001b[0m\u001b[0;34m\u001b[0m\u001b[0m\n\u001b[0;32m-> 1304\u001b[0;31m                 \u001b[0;32mraise\u001b[0m \u001b[0mKeyError\u001b[0m\u001b[0;34m(\u001b[0m\u001b[0;34mf\"{not_found} not in index\"\u001b[0m\u001b[0;34m)\u001b[0m\u001b[0;34m\u001b[0m\u001b[0;34m\u001b[0m\u001b[0m\n\u001b[0m\u001b[1;32m   1305\u001b[0m \u001b[0;34m\u001b[0m\u001b[0m\n\u001b[1;32m   1306\u001b[0m             \u001b[0;31m# we skip the warning on Categorical\u001b[0m\u001b[0;34m\u001b[0m\u001b[0;34m\u001b[0m\u001b[0;34m\u001b[0m\u001b[0m\n",
      "\u001b[0;31mKeyError\u001b[0m: \"['param_randomforestclassifier__max_depth'] not in index\""
     ]
    }
   ],
   "source": [
    "cv_results=cv_results[['rank_test_score', 'mean_test_score', 'mean_train_score',\n",
    "                      'param_columntransformer__tfidfvectorizer__lowercase',\n",
    "                      'param_columntransformer__tfidfvectorizer__ngram_range',\n",
    "                      'param_randomforestclassifier__max_depth']]"
   ]
  },
  {
   "cell_type": "code",
   "execution_count": 75,
   "metadata": {},
   "outputs": [
    {
     "data": {
      "text/html": [
       "<div>\n",
       "<style scoped>\n",
       "    .dataframe tbody tr th:only-of-type {\n",
       "        vertical-align: middle;\n",
       "    }\n",
       "\n",
       "    .dataframe tbody tr th {\n",
       "        vertical-align: top;\n",
       "    }\n",
       "\n",
       "    .dataframe thead th {\n",
       "        text-align: right;\n",
       "    }\n",
       "</style>\n",
       "<table border=\"1\" class=\"dataframe\">\n",
       "  <thead>\n",
       "    <tr style=\"text-align: right;\">\n",
       "      <th></th>\n",
       "      <th>rank_test_score</th>\n",
       "      <th>mean_test_score</th>\n",
       "      <th>mean_train_score</th>\n",
       "      <th>param_columntransformer__tfidfvectorizer__lowercase</th>\n",
       "      <th>param_columntransformer__tfidfvectorizer__ngram_range</th>\n",
       "      <th>param_columntransformer__tfidfvectorizer__ngram_range</th>\n",
       "    </tr>\n",
       "  </thead>\n",
       "  <tbody>\n",
       "    <tr>\n",
       "      <th>0</th>\n",
       "      <td>6</td>\n",
       "      <td>0.526515</td>\n",
       "      <td>0.729167</td>\n",
       "      <td>True</td>\n",
       "      <td>(1, 1)</td>\n",
       "      <td>(1, 1)</td>\n",
       "    </tr>\n",
       "    <tr>\n",
       "      <th>1</th>\n",
       "      <td>4</td>\n",
       "      <td>0.537879</td>\n",
       "      <td>0.833333</td>\n",
       "      <td>True</td>\n",
       "      <td>(1, 1)</td>\n",
       "      <td>(1, 1)</td>\n",
       "    </tr>\n",
       "    <tr>\n",
       "      <th>2</th>\n",
       "      <td>1</td>\n",
       "      <td>0.560606</td>\n",
       "      <td>0.895833</td>\n",
       "      <td>True</td>\n",
       "      <td>(1, 1)</td>\n",
       "      <td>(1, 1)</td>\n",
       "    </tr>\n",
       "    <tr>\n",
       "      <th>3</th>\n",
       "      <td>10</td>\n",
       "      <td>0.496212</td>\n",
       "      <td>0.702652</td>\n",
       "      <td>True</td>\n",
       "      <td>(1, 2)</td>\n",
       "      <td>(1, 2)</td>\n",
       "    </tr>\n",
       "    <tr>\n",
       "      <th>4</th>\n",
       "      <td>8</td>\n",
       "      <td>0.511364</td>\n",
       "      <td>0.774621</td>\n",
       "      <td>True</td>\n",
       "      <td>(1, 2)</td>\n",
       "      <td>(1, 2)</td>\n",
       "    </tr>\n",
       "    <tr>\n",
       "      <th>5</th>\n",
       "      <td>3</td>\n",
       "      <td>0.545455</td>\n",
       "      <td>0.829545</td>\n",
       "      <td>True</td>\n",
       "      <td>(1, 2)</td>\n",
       "      <td>(1, 2)</td>\n",
       "    </tr>\n",
       "    <tr>\n",
       "      <th>6</th>\n",
       "      <td>9</td>\n",
       "      <td>0.503788</td>\n",
       "      <td>0.734848</td>\n",
       "      <td>False</td>\n",
       "      <td>(1, 1)</td>\n",
       "      <td>(1, 1)</td>\n",
       "    </tr>\n",
       "    <tr>\n",
       "      <th>7</th>\n",
       "      <td>5</td>\n",
       "      <td>0.534091</td>\n",
       "      <td>0.839015</td>\n",
       "      <td>False</td>\n",
       "      <td>(1, 1)</td>\n",
       "      <td>(1, 1)</td>\n",
       "    </tr>\n",
       "    <tr>\n",
       "      <th>8</th>\n",
       "      <td>2</td>\n",
       "      <td>0.556818</td>\n",
       "      <td>0.941288</td>\n",
       "      <td>False</td>\n",
       "      <td>(1, 1)</td>\n",
       "      <td>(1, 1)</td>\n",
       "    </tr>\n",
       "    <tr>\n",
       "      <th>9</th>\n",
       "      <td>12</td>\n",
       "      <td>0.473485</td>\n",
       "      <td>0.683712</td>\n",
       "      <td>False</td>\n",
       "      <td>(1, 2)</td>\n",
       "      <td>(1, 2)</td>\n",
       "    </tr>\n",
       "    <tr>\n",
       "      <th>10</th>\n",
       "      <td>11</td>\n",
       "      <td>0.481061</td>\n",
       "      <td>0.761364</td>\n",
       "      <td>False</td>\n",
       "      <td>(1, 2)</td>\n",
       "      <td>(1, 2)</td>\n",
       "    </tr>\n",
       "    <tr>\n",
       "      <th>11</th>\n",
       "      <td>7</td>\n",
       "      <td>0.518939</td>\n",
       "      <td>0.839015</td>\n",
       "      <td>False</td>\n",
       "      <td>(1, 2)</td>\n",
       "      <td>(1, 2)</td>\n",
       "    </tr>\n",
       "  </tbody>\n",
       "</table>\n",
       "</div>"
      ],
      "text/plain": [
       "    rank_test_score  mean_test_score  mean_train_score  \\\n",
       "0                 6         0.526515          0.729167   \n",
       "1                 4         0.537879          0.833333   \n",
       "2                 1         0.560606          0.895833   \n",
       "3                10         0.496212          0.702652   \n",
       "4                 8         0.511364          0.774621   \n",
       "5                 3         0.545455          0.829545   \n",
       "6                 9         0.503788          0.734848   \n",
       "7                 5         0.534091          0.839015   \n",
       "8                 2         0.556818          0.941288   \n",
       "9                12         0.473485          0.683712   \n",
       "10               11         0.481061          0.761364   \n",
       "11                7         0.518939          0.839015   \n",
       "\n",
       "   param_columntransformer__tfidfvectorizer__lowercase  \\\n",
       "0                                                True    \n",
       "1                                                True    \n",
       "2                                                True    \n",
       "3                                                True    \n",
       "4                                                True    \n",
       "5                                                True    \n",
       "6                                               False    \n",
       "7                                               False    \n",
       "8                                               False    \n",
       "9                                               False    \n",
       "10                                              False    \n",
       "11                                              False    \n",
       "\n",
       "   param_columntransformer__tfidfvectorizer__ngram_range  \\\n",
       "0                                              (1, 1)      \n",
       "1                                              (1, 1)      \n",
       "2                                              (1, 1)      \n",
       "3                                              (1, 2)      \n",
       "4                                              (1, 2)      \n",
       "5                                              (1, 2)      \n",
       "6                                              (1, 1)      \n",
       "7                                              (1, 1)      \n",
       "8                                              (1, 1)      \n",
       "9                                              (1, 2)      \n",
       "10                                             (1, 2)      \n",
       "11                                             (1, 2)      \n",
       "\n",
       "   param_columntransformer__tfidfvectorizer__ngram_range  \n",
       "0                                              (1, 1)     \n",
       "1                                              (1, 1)     \n",
       "2                                              (1, 1)     \n",
       "3                                              (1, 2)     \n",
       "4                                              (1, 2)     \n",
       "5                                              (1, 2)     \n",
       "6                                              (1, 1)     \n",
       "7                                              (1, 1)     \n",
       "8                                              (1, 1)     \n",
       "9                                              (1, 2)     \n",
       "10                                             (1, 2)     \n",
       "11                                             (1, 2)     "
      ]
     },
     "execution_count": 75,
     "metadata": {},
     "output_type": "execute_result"
    }
   ],
   "source": [
    "cv_results"
   ]
  },
  {
   "cell_type": "code",
   "execution_count": 36,
   "metadata": {},
   "outputs": [],
   "source": [
    "y_pred = cv.best_estimator_.predict(X)"
   ]
  },
  {
   "cell_type": "code",
   "execution_count": 37,
   "metadata": {},
   "outputs": [
    {
     "data": {
      "text/plain": [
       "array(['Bob Marley', 'Bob Marley', 'Bob Marley', 'Bob Marley',\n",
       "       'Bob Marley', 'Bob Marley', 'Bob Marley', 'Bob Marley',\n",
       "       'Bob Marley', 'Bob Marley', 'Bob Marley', 'Bob Marley',\n",
       "       'Bob Marley', 'Bob Marley', 'Bob Marley', 'Bob Marley',\n",
       "       'Bob Marley', 'Bob Marley', 'Bob Marley', 'Bob Marley',\n",
       "       'Bob Marley', 'Bob Marley', 'Bob Marley', 'Bob Marley',\n",
       "       'Bob Marley', 'Bob Marley', 'Bob Marley', 'Bob Marley',\n",
       "       'Bob Marley', 'Bob Marley', 'Bob Marley', 'Bob Marley',\n",
       "       'Bob Marley', 'Bob Marley', 'Bob Marley', 'Bob Marley',\n",
       "       'Bob Marley', 'Bob Marley', 'Bob Marley', 'Bob Marley',\n",
       "       'Bob Marley', 'Bob Marley', 'Bob Marley', 'Bob Marley',\n",
       "       'Bob Marley', 'Bob Marley', 'Bob Marley', 'Bob Marley',\n",
       "       'Bob Marley', 'Bob Marley', 'Bob Marley', 'Bob Marley',\n",
       "       'Bob Marley', 'Bob Marley', 'Bob Marley', 'Bob Marley',\n",
       "       'Bob Marley', 'Bob Marley', 'Bob Marley', 'Bob Marley',\n",
       "       'Bob Marley', 'Bob Marley', 'Bob Marley', 'Bob Marley',\n",
       "       'Bob Marley', 'Bob Marley', 'Bob Marley', 'Bob Marley',\n",
       "       'Bob Marley', 'Bob Marley', 'Bob Marley', 'Bob Marley',\n",
       "       'Bob Marley', 'Bob Marley', 'Bob Marley', 'Bob Marley',\n",
       "       'Bob Marley', 'Bob Marley', 'Bob Marley', 'Bob Marley',\n",
       "       'Bob Marley', 'Bob Marley', 'Bob Marley', 'Bob Marley',\n",
       "       'Bob Marley', 'Bob Marley', 'Bob Marley', 'Bob Marley',\n",
       "       'Bob Marley', 'Bob Marley', 'Bob Marley', 'Bob Marley',\n",
       "       'Bob Marley', 'Bob Marley', 'Bob Marley', 'Bob Marley',\n",
       "       'Bob Marley', 'Bob Marley', 'Bob Marley', 'Bob Marley',\n",
       "       'Bob Marley', 'Bob Marley', 'Bob Marley', 'Bob Marley',\n",
       "       'Bob Marley', 'Bob Marley', 'Bob Marley', 'Bob Marley',\n",
       "       'Bob Marley', 'Bob Marley', 'Bob Marley', 'Bob Marley',\n",
       "       'Bob Marley', 'Bob Marley', 'Bob Marley', 'Bob Marley',\n",
       "       'Bob Marley', 'Bob Marley', 'Bob Marley', 'Bob Marley',\n",
       "       'Bob Marley', 'Bob Marley', 'Bob Marley', 'Bob Marley',\n",
       "       'Bob Marley', 'Radiohead', 'Bob Marley', 'Bob Marley',\n",
       "       'Bob Marley', 'Bob Marley', 'Radiohead', 'Bob Marley',\n",
       "       'Bob Marley', 'Bob Marley', 'Michael Jackson', 'Bob Marley',\n",
       "       'Bob Marley', 'Bob Marley', 'Radiohead', 'Bob Marley',\n",
       "       'Bob Marley', 'Bob Marley', 'Bob Marley', 'Bob Marley',\n",
       "       'Bob Marley', 'Bob Marley', 'Bob Marley', 'Bob Marley',\n",
       "       'Bob Marley', 'Bob Marley', 'Bob Marley', 'Bob Marley',\n",
       "       'Bob Marley', 'Bob Marley', 'Bob Marley', 'Bob Marley',\n",
       "       'Bob Marley', 'Led Zeppelin', 'Bob Marley', 'Bob Marley',\n",
       "       'Radiohead', 'Bob Marley', 'Bob Marley', 'Michael Jackson',\n",
       "       'Michael Jackson', 'Bob Marley', 'Bob Marley', 'Bob Marley',\n",
       "       'Bob Marley', 'Bob Marley', 'Bob Marley', 'Michael Jackson',\n",
       "       'Bob Marley', 'Michael Jackson', 'Michael Jackson', 'Bob Marley',\n",
       "       'Michael Jackson', 'Michael Jackson', 'Bob Marley',\n",
       "       'Michael Jackson', 'Michael Jackson', 'Michael Jackson',\n",
       "       'Michael Jackson', 'Bob Marley', 'Michael Jackson',\n",
       "       'Michael Jackson', 'Michael Jackson', 'Bob Marley',\n",
       "       'Michael Jackson', 'Bob Marley', 'Michael Jackson',\n",
       "       'Michael Jackson', 'Michael Jackson', 'Michael Jackson',\n",
       "       'Michael Jackson', 'Michael Jackson', 'Bob Marley',\n",
       "       'Michael Jackson', 'Michael Jackson', 'Michael Jackson',\n",
       "       'Michael Jackson', 'Michael Jackson', 'Michael Jackson',\n",
       "       'Michael Jackson', 'Bob Marley', 'Michael Jackson',\n",
       "       'Michael Jackson', 'Michael Jackson', 'Michael Jackson',\n",
       "       'Michael Jackson', 'Bob Marley', 'Michael Jackson',\n",
       "       'Michael Jackson', 'Michael Jackson', 'Michael Jackson',\n",
       "       'Michael Jackson', 'Michael Jackson', 'Michael Jackson',\n",
       "       'Michael Jackson', 'Michael Jackson', 'Michael Jackson',\n",
       "       'Michael Jackson', 'Michael Jackson', 'Michael Jackson',\n",
       "       'Michael Jackson', 'Michael Jackson', 'Michael Jackson',\n",
       "       'Bob Marley', 'Michael Jackson', 'Michael Jackson',\n",
       "       'Michael Jackson', 'Michael Jackson', 'Michael Jackson',\n",
       "       'Michael Jackson', 'Michael Jackson', 'Michael Jackson',\n",
       "       'Michael Jackson', 'Bob Marley', 'Michael Jackson',\n",
       "       'Michael Jackson', 'Michael Jackson', 'Michael Jackson',\n",
       "       'Bob Marley', 'Michael Jackson', 'Michael Jackson',\n",
       "       'Michael Jackson', 'Michael Jackson', 'Bob Marley',\n",
       "       'Michael Jackson', 'Michael Jackson', 'Michael Jackson',\n",
       "       'Michael Jackson', 'Michael Jackson', 'Michael Jackson',\n",
       "       'Michael Jackson', 'Bob Marley', 'Michael Jackson',\n",
       "       'Michael Jackson', 'Michael Jackson', 'Michael Jackson',\n",
       "       'Bob Marley', 'Michael Jackson', 'Bob Marley', 'Michael Jackson',\n",
       "       'Led Zeppelin', 'Bob Marley', 'Led Zeppelin', 'Led Zeppelin',\n",
       "       'Led Zeppelin', 'Led Zeppelin', 'Led Zeppelin', 'Led Zeppelin',\n",
       "       'Led Zeppelin', 'Bob Marley', 'Led Zeppelin', 'Bob Marley',\n",
       "       'Led Zeppelin', 'Led Zeppelin', 'Led Zeppelin', 'Led Zeppelin',\n",
       "       'Led Zeppelin', 'Led Zeppelin', 'Led Zeppelin', 'Led Zeppelin',\n",
       "       'Led Zeppelin', 'Led Zeppelin', 'Led Zeppelin', 'Led Zeppelin',\n",
       "       'Led Zeppelin', 'Led Zeppelin', 'Bob Marley', 'Led Zeppelin',\n",
       "       'Led Zeppelin', 'Led Zeppelin', 'Led Zeppelin', 'Led Zeppelin',\n",
       "       'Led Zeppelin', 'Led Zeppelin', 'Led Zeppelin', 'Led Zeppelin',\n",
       "       'Led Zeppelin', 'Led Zeppelin', 'Led Zeppelin', 'Led Zeppelin',\n",
       "       'Led Zeppelin', 'Led Zeppelin', 'Michael Jackson', 'Led Zeppelin',\n",
       "       'Led Zeppelin', 'Led Zeppelin', 'Led Zeppelin', 'Led Zeppelin',\n",
       "       'Led Zeppelin', 'Led Zeppelin', 'Led Zeppelin', 'Led Zeppelin',\n",
       "       'Led Zeppelin', 'Led Zeppelin', 'Led Zeppelin', 'Bob Marley',\n",
       "       'Bob Marley', 'Bob Marley', 'Led Zeppelin', 'Led Zeppelin',\n",
       "       'Led Zeppelin', 'Led Zeppelin', 'Led Zeppelin', 'Led Zeppelin',\n",
       "       'Led Zeppelin', 'Bob Marley', 'Led Zeppelin', 'Led Zeppelin',\n",
       "       'Led Zeppelin', 'Led Zeppelin', 'Led Zeppelin', 'Led Zeppelin',\n",
       "       'Bob Marley', 'Led Zeppelin', 'Led Zeppelin', 'Bob Marley',\n",
       "       'Led Zeppelin', 'Led Zeppelin', 'Led Zeppelin', 'Bob Marley',\n",
       "       'Led Zeppelin', 'Led Zeppelin', 'Bob Marley', 'Led Zeppelin',\n",
       "       'Led Zeppelin', 'Bob Marley', 'Bob Marley', 'Led Zeppelin'],\n",
       "      dtype=object)"
      ]
     },
     "execution_count": 37,
     "metadata": {},
     "output_type": "execute_result"
    }
   ],
   "source": [
    "y_pred "
   ]
  },
  {
   "cell_type": "code",
   "execution_count": 38,
   "metadata": {},
   "outputs": [
    {
     "data": {
      "text/plain": [
       "0.7443181818181818"
      ]
     },
     "execution_count": 38,
     "metadata": {},
     "output_type": "execute_result"
    }
   ],
   "source": [
    "accuracy_score(y_pred, y)"
   ]
  },
  {
   "cell_type": "code",
   "execution_count": null,
   "metadata": {},
   "outputs": [],
   "source": []
  }
 ],
 "metadata": {
  "kernelspec": {
   "display_name": "Python 3",
   "language": "python",
   "name": "python3"
  },
  "language_info": {
   "codemirror_mode": {
    "name": "ipython",
    "version": 3
   },
   "file_extension": ".py",
   "mimetype": "text/x-python",
   "name": "python",
   "nbconvert_exporter": "python",
   "pygments_lexer": "ipython3",
   "version": "3.8.3"
  }
 },
 "nbformat": 4,
 "nbformat_minor": 4
}
